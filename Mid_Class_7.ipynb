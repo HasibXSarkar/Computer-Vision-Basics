{
  "nbformat": 4,
  "nbformat_minor": 0,
  "metadata": {
    "colab": {
      "provenance": [],
      "authorship_tag": "ABX9TyPZwpmo+dodBeTmEmR6cnc6",
      "include_colab_link": true
    },
    "kernelspec": {
      "name": "python3",
      "display_name": "Python 3"
    },
    "language_info": {
      "name": "python"
    }
  },
  "cells": [
    {
      "cell_type": "markdown",
      "metadata": {
        "id": "view-in-github",
        "colab_type": "text"
      },
      "source": [
        "<a href=\"https://colab.research.google.com/github/HasibXSarkar/Computer-Vision-Basics/blob/main/Mid_Class_7.ipynb\" target=\"_parent\"><img src=\"https://colab.research.google.com/assets/colab-badge.svg\" alt=\"Open In Colab\"/></a>"
      ]
    },
    {
      "cell_type": "code",
      "execution_count": 1,
      "metadata": {
        "id": "_JX9cQBly91p"
      },
      "outputs": [],
      "source": [
        "import numpy as np\n",
        "import matplotlib.pyplot as plt"
      ]
    },
    {
      "cell_type": "code",
      "source": [
        "x = np.array([[0,0],[0,1],[1,0],[1,1]])\n",
        "y = np.array([[0],[1],[1],[0]])"
      ],
      "metadata": {
        "id": "FobLDGXkzIHo"
      },
      "execution_count": 2,
      "outputs": []
    },
    {
      "cell_type": "code",
      "source": [
        "class NeuralNet(object):\n",
        "  def __init__(self):\n",
        "    inputLayerNeurons = 2\n",
        "    hiddenLayerNeurons = 5\n",
        "    outputLayerNeurons = 1\n",
        "\n",
        "    self.lr = 0.01\n",
        "    self.w_HI = np.random.randn(inputLayerNeurons,hiddenLayerNeurons)\n",
        "    self.w_HO = np.random.randn(hiddenLayerNeurons,outputLayerNeurons)\n",
        "  def sigmoid(x,der = False):\n",
        "    if der == True:\n",
        "      return x*(1-x)\n",
        "    else:\n",
        "      return 1/(1+np.exp(-x))\n",
        "\n"
      ],
      "metadata": {
        "id": "3oyKu_Bhzk1M"
      },
      "execution_count": null,
      "outputs": []
    }
  ]
}